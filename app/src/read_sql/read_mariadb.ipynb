{
 "cells": [
  {
   "cell_type": "markdown",
   "id": "277ffb52",
   "metadata": {},
   "source": [
    "Inicialize uma sessão Spark, que é a maneira de interagir com os dados no Spark"
   ]
  },
  {
   "cell_type": "code",
   "execution_count": 36,
   "id": "37eacef4",
   "metadata": {},
   "outputs": [
    {
     "name": "stdout",
     "output_type": "stream",
     "text": [
      "{\"arquivo_sql\": [\"count.sql\"], \"parametros_query\": {\"tabela\": \"tera\", \"cidade\": \"Genevse\"}, \"parametros_carga\": {\"table\": \"tera\", \"url\": \"jdbc:mysql://localhost:3306/teste\"}}\n"
     ]
    }
   ],
   "source": [
    "import json\n",
    "from pyspark.sql import SparkSession\n",
    "spark = SparkSession.builder.master(\n",
    "    \"local[1]\"\n",
    "    ).appName(\n",
    "        'test'\n",
    "    ).config(\n",
    "        \"spark.jars\", \"mariadb-java-client-1.8.0.jar\"\n",
    "    ).getOrCreate()\n",
    "\n",
    "with open('param.json', 'r') as file:\n",
    "    data = json.load(file)\n",
    "\n",
    "properties = {\n",
    "    \"numPartitions\": 10,\n",
    "    \"properties\":{\n",
    "        \"user\": \"root\",\n",
    "        \"password\": \"secret\",\n",
    "        \"driver\": \"org.mariadb.jdbc.Driver\"\n",
    "    }\n",
    "    \n",
    "}\n",
    "properties.update(**data['parametros_carga'])\n",
    "print(json.dumps(data))"
   ]
  },
  {
   "cell_type": "code",
   "execution_count": 37,
   "id": "a562726c",
   "metadata": {},
   "outputs": [
    {
     "name": "stderr",
     "output_type": "stream",
     "text": [
      "                                                                                \r"
     ]
    },
    {
     "data": {
      "text/plain": [
       "0"
      ]
     },
     "execution_count": 37,
     "metadata": {},
     "output_type": "execute_result"
    }
   ],
   "source": [
    "df = spark.read.jdbc(**properties).cache()\n",
    "df.createOrReplaceTempView(data['parametros_carga']['table'])\n",
    "parametros_query = data['parametros_query']\n",
    "for file in data['arquivo_sql']:\n",
    "    with open(file, 'r') as file:\n",
    "        query = file.read()\n",
    "    query = query.format_map(parametros_query)\n",
    "    df_stg = spark.sql(query)\n",
    "df_stg.count()"
   ]
  }
 ],
 "metadata": {
  "kernelspec": {
   "display_name": "Python 3 (ipykernel)",
   "language": "python",
   "name": "python3"
  },
  "language_info": {
   "codemirror_mode": {
    "name": "ipython",
    "version": 3
   },
   "file_extension": ".py",
   "mimetype": "text/x-python",
   "name": "python",
   "nbconvert_exporter": "python",
   "pygments_lexer": "ipython3",
   "version": "3.10.12"
  }
 },
 "nbformat": 4,
 "nbformat_minor": 5
}
